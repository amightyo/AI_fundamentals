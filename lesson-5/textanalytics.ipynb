{
 "cells": [
  {
   "cell_type": "markdown",
   "metadata": {
    "nteract": {
     "transient": {
      "deleting": false
     }
    }
   },
   "source": [
    "Copy your Cognitive Service Key `cognitive_key` and Endpoint `cognitive_endpoint` to the variables listed below."
   ]
  },
  {
   "cell_type": "code",
   "execution_count": null,
   "metadata": {
    "gather": {
     "logged": 1613679794890
    }
   },
   "outputs": [],
   "source": [
    "cognitive_key = '<YourKey>'\n",
    "cognitive_endpoint = '<YourEndpoint>'\n",
    "\n",
    "print('Cognitive services ready at {}'.format(cognitive_key))"
   ]
  },
  {
   "cell_type": "markdown",
   "metadata": {
    "nteract": {
     "transient": {
      "deleting": false
     }
    }
   },
   "source": [
    "Run the code below to install Azure Text Analytics SDK to the exercise environment."
   ]
  },
  {
   "cell_type": "code",
   "execution_count": null,
   "metadata": {
    "gather": {
     "logged": 1613679797720
    },
    "jupyter": {
     "outputs_hidden": false,
     "source_hidden": false
    },
    "nteract": {
     "transient": {
      "deleting": false
     }
    }
   },
   "outputs": [],
   "source": [
    "pip install azure-ai-textanalytics"
   ]
  },
  {
   "cell_type": "markdown",
   "metadata": {
    "nteract": {
     "transient": {
      "deleting": false
     }
    }
   },
   "source": [
    "Time to create a `TextAnalyticsClient` that we can use to access the REST APIs hosted by the Azure Text Analytics service. We will be using this client for all the upcoming operations."
   ]
  },
  {
   "cell_type": "code",
   "execution_count": null,
   "metadata": {
    "gather": {
     "logged": 1613679797981
    },
    "jupyter": {
     "outputs_hidden": false,
     "source_hidden": false
    },
    "nteract": {
     "transient": {
      "deleting": false
     }
    }
   },
   "outputs": [],
   "source": [
    "from azure.core.credentials import AzureKeyCredential\n",
    "from azure.ai.textanalytics import TextAnalyticsClient\n",
    "\n",
    "credential = AzureKeyCredential(cognitive_key)\n",
    "text_analytics_client = TextAnalyticsClient(endpoint=cognitive_endpoint, credential=credential)"
   ]
  },
  {
   "cell_type": "markdown",
   "metadata": {
    "nteract": {
     "transient": {
      "deleting": false
     }
    }
   },
   "source": [
    "### Language detection\n",
    "\n",
    "Here you have a list of texts written in a different language. Use Azure Cognitive Service's language detection capability to detect and output the languages used in the documents. A sample result is given below."
   ]
  },
  {
   "cell_type": "code",
   "execution_count": null,
   "metadata": {
    "gather": {
     "logged": 1613679799175
    },
    "jupyter": {
     "outputs_hidden": false,
     "source_hidden": false
    },
    "nteract": {
     "transient": {
      "deleting": false
     }
    }
   },
   "outputs": [],
   "source": [
    "documents = [\n",
    "    \"This is written in English.\",\n",
    "    \"Ceci est écrit en Français.\",\n",
    "    \"Dies ist in deutscher Sprache geschrieben.\"\n",
    "]"
   ]
  },
  {
   "cell_type": "markdown",
   "metadata": {
    "nteract": {
     "transient": {
      "deleting": false
     }
    }
   },
   "source": [
    "### Sentiment Analysis\n",
    "\n",
    "Sentiment analysis can be fun runnings against some tweets. Below you have a small list of tweets. Run Azure Cognitive Services Sentiment Analysis to see what AI thinks about these tweets. Make sure you print both the sentiment and the confidence levels. \n",
    "You can see a sample result below."
   ]
  },
  {
   "cell_type": "code",
   "execution_count": null,
   "metadata": {
    "gather": {
     "logged": 1613679799474
    },
    "jupyter": {
     "outputs_hidden": false,
     "source_hidden": false
    },
    "nteract": {
     "transient": {
      "deleting": false
     }
    }
   },
   "outputs": [],
   "source": [
    "documents = [\n",
    "    \"I'm in love with Azure Text Analytics\",\n",
    "    \"AI is going to eat our jobs. We will all end up homeless.\",\n",
    "    \"Machine Learning skills are always valuable.\"\n",
    "]"
   ]
  },
  {
   "cell_type": "markdown",
   "metadata": {
    "nteract": {
     "transient": {
      "deleting": false
     }
    }
   },
   "source": [
    "### Key Phrase Extraction\n",
    "\n",
    "We have another list of tweets. Now we want to extract key phrases from each document and output those in a list. How would you do it? See the sample output given below."
   ]
  },
  {
   "cell_type": "code",
   "execution_count": null,
   "metadata": {
    "gather": {
     "logged": 1613679799694
    },
    "jupyter": {
     "outputs_hidden": false,
     "source_hidden": false
    },
    "nteract": {
     "transient": {
      "deleting": false
     }
    }
   },
   "outputs": [],
   "source": [
    "documents = [\n",
    "    \"Northwood University is the perfect place to learn by practice and exercise.\",\n",
    "    \"I might eat a burger tonight.\",\n",
    "    \"The answer to everything in life is 42.\"\n",
    "]"
   ]
  },
  {
   "cell_type": "markdown",
   "metadata": {
    "nteract": {
     "transient": {
      "deleting": false
     }
    }
   },
   "source": [
    "### Entity Recognition\n",
    "\n",
    "Recognizing entities in a text can be very valuable to extract actionable information from text. Below we have a list of documents to run through the Entity Recognizer in Azure Cognitive Services. See the sample output and try to match it."
   ]
  },
  {
   "cell_type": "code",
   "execution_count": null,
   "metadata": {
    "gather": {
     "logged": 1613679808312
    },
    "jupyter": {
     "outputs_hidden": false,
     "source_hidden": false
    },
    "nteract": {
     "transient": {
      "deleting": false
     }
    }
   },
   "outputs": [],
   "source": [
    "documents = [\n",
    "    \"Mighty woke up very early.\",\n",
    "    \"When she was in Paris, Grace was a happy girl.\",\n",
    "    \"He found a job thanks to Northwood University.\"\n",
    "]"
   ]
  }
 ],
 "metadata": {
  "kernel_info": {
   "name": "python3-azureml"
  },
  "kernelspec": {
   "display_name": "Python 2",
   "language": "python",
   "name": "python2"
  },
  "language_info": {
   "codemirror_mode": {
    "name": "ipython",
    "version": 2
   },
   "file_extension": ".py",
   "mimetype": "text/x-python",
   "name": "python",
   "nbconvert_exporter": "python",
   "pygments_lexer": "ipython2",
   "version": "2.7.14"
  },
  "nteract": {
   "version": "nteract-front-end@1.0.0"
  }
 },
 "nbformat": 4,
 "nbformat_minor": 2
}
