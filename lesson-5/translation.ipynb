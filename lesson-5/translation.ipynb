{
 "cells": [
  {
   "cell_type": "markdown",
   "metadata": {
    "nteract": {
     "transient": {
      "deleting": false
     }
    }
   },
   "source": [
    "Copy your Cognitive Service Key (`cognitive_key`) and Service Region (`cognitive_service_region`) to the variables listed below."
   ]
  },
  {
   "cell_type": "code",
   "execution_count": null,
   "metadata": {
    "gather": {
     "logged": 1613994183848
    }
   },
   "outputs": [],
   "source": [
    "cognitive_key = '<YourKey>'\n",
    "cognitive_service_region = '<YourRegion>'\n",
    "\n",
    "print('Cognitive services ready at {}'.format(cognitive_service_region))"
   ]
  },
  {
   "cell_type": "markdown",
   "metadata": {
    "nteract": {
     "transient": {
      "deleting": false
     }
    }
   },
   "source": [
    "Let's install Azure Speech SDK"
   ]
  },
  {
   "cell_type": "code",
   "execution_count": null,
   "metadata": {
    "gather": {
     "logged": 1613917966358
    },
    "jupyter": {
     "outputs_hidden": false,
     "source_hidden": false
    },
    "nteract": {
     "transient": {
      "deleting": false
     }
    }
   },
   "outputs": [],
   "source": [
    "pip install azure.cognitiveservices.speech"
   ]
  },
  {
   "cell_type": "markdown",
   "metadata": {
    "nteract": {
     "transient": {
      "deleting": false
     }
    }
   },
   "source": [
    "### Text Translation\n",
    "\n",
    "You might remember that Text Translation API did not have a Python SDK. In the sample code below we have all the parameters, headers and the HTTP request body ready for you. \n",
    "Except two details. \n",
    "- First, we need you to add Italien into the list of target languages for our translation. You will need to play with the parameters to do that. \n",
    "- Second, we need you to complete the code between the green commented lines and make things work.   \n",
    "\n",
    "Go!"
   ]
  },
  {
   "cell_type": "code",
   "execution_count": null,
   "metadata": {
    "gather": {
     "logged": 1613994938971
    },
    "jupyter": {
     "outputs_hidden": false,
     "source_hidden": false
    },
    "nteract": {
     "transient": {
      "deleting": false
     }
    }
   },
   "outputs": [],
   "source": [
    "import requests, uuid, json\n",
    "\n",
    "endpoint = \"https://api.cognitive.microsofttranslator.com/translate\"\n",
    "\n",
    "params = {\n",
    "    'api-version': '3.0',\n",
    "    'from': 'en',\n",
    "    'to': ['de']\n",
    "}\n",
    "\n",
    "headers = {\n",
    "    'Ocp-Apim-Subscription-Key': cognitive_key,\n",
    "    'Ocp-Apim-Subscription-Region': cognitive_service_region,\n",
    "    'Content-type': 'application/json',\n",
    "    'X-ClientTraceId': str(uuid.uuid4())\n",
    "}\n",
    "\n",
    "body = [{\n",
    "    'text': 'Hello World!'\n",
    "}]\n",
    "\n",
    "# YOUR CODE STARTS HERE #\n",
    "\n",
    "\n",
    "# YOUR CODE ENDS HERE #\n",
    "response = request.json()\n",
    "\n",
    "print(json.dumps(response, sort_keys=True, ensure_ascii=False, indent=4, separators=(',', ': ')))"
   ]
  },
  {
   "cell_type": "markdown",
   "metadata": {
    "nteract": {
     "transient": {
      "deleting": false
     }
    }
   },
   "source": [
    "#### Sample Output\n",
    "\n",
    "```\n",
    "[\n",
    "    {\n",
    "        \"translations\": [\n",
    "            {\n",
    "                \"text\": \"Hallo Welt!\",\n",
    "                \"to\": \"de\"\n",
    "            },\n",
    "            {\n",
    "                \"text\": \"Salve, mondo!\",\n",
    "                \"to\": \"it\"\n",
    "            }\n",
    "        ]\n",
    "    }\n",
    "]\n",
    "```"
   ]
  },
  {
   "cell_type": "markdown",
   "metadata": {
    "nteract": {
     "transient": {
      "deleting": false
     }
    }
   },
   "source": [
    "### Speech Translation\n",
    "\n",
    "We are given a `speech-sample.wav` file with some speech in it that has to be converted to German and French. If I were in your shoes I would start preparing a Translation Config and an Audio Config objects first. \n",
    "Those can help to initialize a `TranslationRecognizer` and run the audio file through the translation process. You can find a sample output after Cell 3. "
   ]
  },
  {
   "cell_type": "code",
   "execution_count": null,
   "metadata": {
    "gather": {
     "logged": 1613994193758
    },
    "jupyter": {
     "outputs_hidden": false,
     "source_hidden": false
    },
    "nteract": {
     "transient": {
      "deleting": false
     }
    }
   },
   "outputs": [],
   "source": [
    "import azure.cognitiveservices.speech as speechsdk\n",
    "\n",
    "# YOUR CODE STARTS HERE #\n",
    "\n",
    "\n",
    "\n",
    "\n",
    "\n",
    "\n",
    "\n",
    "\n",
    "\n",
    "\n",
    "\n",
    "\n",
    "#YOUR CODE ENDS HERE #\n",
    "\n",
    "if result.reason == speechsdk.ResultReason.TranslatedSpeech:\n",
    "    print(\"\"\"Recognized: {}\n",
    "    German translation: {}\n",
    "    French translation: {}\"\"\".format(\n",
    "        result.text, result.translations['de'], result.translations['fr']))\n",
    "elif result.reason == speechsdk.ResultReason.RecognizedSpeech:\n",
    "    print(\"Recognized: {}\".format(result.text))\n",
    "elif result.reason == speechsdk.ResultReason.NoMatch:\n",
    "    print(\"No speech could be recognized: {}\".format(result.no_match_details))\n",
    "elif result.reason == speechsdk.ResultReason.Canceled:\n",
    "    print(\"Translation canceled: {}\".format(result.cancellation_details.reason))\n",
    "    if result.cancellation_details.reason == speechsdk.CancellationReason.Error:\n",
    "        print(\"Error details: {}\".format(result.cancellation_details.error_details))"
   ]
  },
  {
   "cell_type": "markdown",
   "metadata": {
    "nteract": {
     "transient": {
      "deleting": false
     }
    }
   },
   "source": [
    "#### Sample Output\n",
    "```\n",
    "Recognized: This is me talking to see how Azure Cognitive Services does speech recognition.\n",
    "    German translation: Dies ist ein Gespräch, um zu sehen, wie Azure Cognitive Services Spracherkennung macht.\n",
    "    French translation: C’est moi qui parle pour voir comment Azure Cognitive Services fait la reconnaissance vocale.\n",
    "```"
   ]
  },
  {
   "cell_type": "markdown",
   "metadata": {
    "nteract": {
     "transient": {
      "deleting": false
     }
    }
   },
   "source": [
    "Good work!"
   ]
  }
 ],
 "metadata": {
  "kernel_info": {
   "name": "python3-azureml"
  },
  "kernelspec": {
   "display_name": "Python 2",
   "language": "python",
   "name": "python2"
  },
  "language_info": {
   "codemirror_mode": {
    "name": "ipython",
    "version": 2
   },
   "file_extension": ".py",
   "mimetype": "text/x-python",
   "name": "python",
   "nbconvert_exporter": "python",
   "pygments_lexer": "ipython2",
   "version": "2.7.14"
  },
  "nteract": {
   "version": "nteract-front-end@1.0.0"
  }
 },
 "nbformat": 4,
 "nbformat_minor": 2
}
